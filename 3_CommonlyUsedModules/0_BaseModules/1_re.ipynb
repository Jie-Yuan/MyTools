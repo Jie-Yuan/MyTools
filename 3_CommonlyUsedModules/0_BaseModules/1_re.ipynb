{
 "cells": [
  {
   "cell_type": "code",
   "execution_count": 1,
   "metadata": {
    "collapsed": true
   },
   "outputs": [],
   "source": [
    "# http://www.runoob.com/python3/python3-reg-expressions.html\n",
    "# https://mp.weixin.qq.com/s?__biz=MzI4MzM2MDgyMQ==&mid=2247484119&idx=1&sn=d466a1cca0741402580d5e5330c72551&chksm=eb8aa98ddcfd209b31402460c99a4f556d0f59c4a62dadd289500d8eae4c089bd99cb67a09ba&mpshare=1&scene=24&srcid=0406qYjHlbZRZh2ajWvrYjET&key=0153b628e79ca88ba084bbcbbeefd004606e37a263b474be4e576ec7e24b9f6d4ac12c62cf01c566bbc0c97b632d427c700d99cc7e5b835448e63361960ac9188efd171f46543c3998bd601f4188ec5b&ascene=0&uin=MjE3MzU3NzE4MA%3D%3D&devicetype=iMac+MacBookPro11%2C5+OSX+OSX+10.12.3+build(16D32)&version=12020110&nettype=WIFI&fontScale=100&pass_ticket=NYlraSV72cO4zs3i9FrGB6DD9UN%2B6gPKT9te%2BGiqm%2BbaDrhbO79jy6KU2YA%2BOu2f\n",
    "import re\n"
   ]
  },
  {
   "cell_type": "code",
   "execution_count": null,
   "metadata": {
    "collapsed": true
   },
   "outputs": [],
   "source": [
    "最简单的正则表达式是普通字符串，只能匹配自身\n",
    "'[pjc]ython'可以匹配'python'、'jython'、'cython'\n",
    "'[a-zA-Z0-9]'可以匹配一个任意大小写字母或数字\n",
    "'[^abc]'可以一个匹配任意除'a'、'b'、'c'之外的字符\n",
    "'python|perl'或'p(ython|erl)'都可以匹配'python'或'perl'\n",
    "子模式后面加上问号表示可选。r'(http://)?(www\\.)?python\\.org'只能匹配'http://www.python.org'、'http://python.org'、'www.python.org'和'python.org'\n",
    "'^http'只能匹配所有以'http'开头的字符串\n",
    "(pattern)*：允许模式重复0次或多次\n",
    "(pattern)+：允许模式重复1次或多次\n",
    "(pattern){m, n}：允许模式重复m~n次\n",
    "'(a|b)*c'：匹配多个（包含0个）a或b，后面紧跟一个字母c。\n",
    "'ab{1,}'：等价于'ab+'，匹配以字母a开头后面带1个或多个字母b的字符串。\n",
    "'^[a-zA-Z]{1}([a-zA-Z0-9._]){4,19}$'：匹配长度为5-20的字符串，必须以字母开头、可带数字、“_”、“.”的字串。\n",
    "'^(\\w){6,20}$'：匹配长度为6-20的字符串，可以包含字母、数字、下划线。\n",
    "'^\\d{1,3}\\.\\d{1,3}\\.\\d{1,3}\\.\\d{1,3}$'：检查给定字符串是否为合法IP地址。\n",
    "'^(13[4-9]\\d{8})|(15[01289]\\d{8})$'：检查给定字符串是否为移动手机号码。\n",
    "'^[a-zA-Z]+$'：检查给定字符串是否只包含英文字母大小写。\n",
    "'^\\w+@(\\w+\\.)+\\w+$'：检查给定字符串是否为合法电子邮件地址。\n",
    "'^(\\-)?\\d+(\\.\\d{1,2})?$'：检查给定字符串是否为最多带有2位小数的正数或负数。\n",
    "'[\\u4e00-\\u9fa5]'：匹配给定字符串中所有汉字。\n",
    "'^\\d{18}|\\d{15}$'：检查给定字符串是否为合法身份证格式。\n",
    "'\\d{4}-\\d{1,2}-\\d{1,2}'：匹配指定格式的日期，例如2016-1-31。\n",
    "'^(?=.*[a-z])(?=.*[A-Z])(?=.*\\d)(?=.*[,._]).{8,}$'：检查给定字符串是否为强密码，必须同时包含英语字母大写字母、英文小写字母、数字或特殊符号（如英文逗号、英文句号、下划线），并且长度必须至少8位。\n",
    "\"(?!.*[\\'\\\"\\/;=%?]).+\"：如果给定字符串中包含’、”、/、;、=、%、?则匹配失败，关于子模式语法请参考表5-4。\n",
    "'(.)\\\\1+'：匹配任意字符的一次或多次重复出现。\n",
    "'((?P<f>\\b\\w+\\b)\\s+(?P=f))'：匹配连续出现两次的单词。"
   ]
  },
  {
   "cell_type": "code",
   "execution_count": null,
   "metadata": {
    "collapsed": true
   },
   "outputs": [],
   "source": [
    "*?    重复任意次，但尽可能少重复\n",
    "+?    重复1次或更多次，但尽可能少重复\n",
    "??    重复0次或1次，但尽可能少重复\n",
    "{n,m}?重复n到m次，但尽可能少重复\n",
    "{n,}?    重复n次以上，但尽可能少重复"
   ]
  },
  {
   "cell_type": "code",
   "execution_count": null,
   "metadata": {
    "collapsed": true
   },
   "outputs": [],
   "source": [
    ".： 匹配任意字符，换行符\\n除外\n",
    "\n",
    "*： 匹配前一个字符0次或者无限次\n",
    "\n",
    "?： 匹配前一个字符0次或者1次\n",
    "\n",
    ".*： 贪心算法\n",
    "\n",
    ".*?： 非贪心算法\n",
    "\n",
    "()： 括号内的数据作为结果返回\n",
    "\n",
    "\\d+： 匹配数字"
   ]
  },
  {
   "cell_type": "code",
   "execution_count": 9,
   "metadata": {
    "collapsed": false
   },
   "outputs": [],
   "source": [
    "re.I 忽略大小写\n",
    "re.S 使“.”元字符匹配换行符\n",
    "re.L 根据本地设置而更改\\w、\\W、\\b、\\B、\\s及\\S的内容\n",
    "re.M 多行匹配模式\n",
    "re.U 匹配unicode字符\n",
    "re.X 忽略pattern中的空格，而且可以使用“#”注释\n",
    "\n",
    "^$ 开头结尾\n",
    "[...] 或者\n",
    "\\d \\D 是否匹配数字（取几位数就写几个d）\n",
    "\\w \\W “w”在正则里面代表匹配从小写a到z,大写A到Z，数字0到9\n",
    "\n",
    "(.*) (.*?)     .*是正则贪婪匹配语法百话点就是贪心利益最大话最大范围的匹配准则 .*？就是限制它不让他最大范围的匹配也叫非贪婪模式匹配"
   ]
  },
  {
   "cell_type": "code",
   "execution_count": 162,
   "metadata": {
    "collapsed": false
   },
   "outputs": [
    {
     "data": {
      "text/plain": [
       "['3faDSSAdd111...sssss\\nssssB']"
      ]
     },
     "execution_count": 162,
     "metadata": {},
     "output_type": "execute_result"
    }
   ],
   "source": [
    "s = 'abcde183faDSSAdd111...sssss\\nssssB222'\n",
    "re.findall(r'3(.*?)b',s,re.I | re.S )\n",
    "re.findall(r'3.*?b',s,re.I | re.S )"
   ]
  },
  {
   "cell_type": "code",
   "execution_count": 144,
   "metadata": {
    "collapsed": true
   },
   "outputs": [],
   "source": []
  },
  {
   "cell_type": "code",
   "execution_count": 140,
   "metadata": {
    "collapsed": false
   },
   "outputs": [
    {
     "data": {
      "text/plain": [
       "(0, 7)"
      ]
     },
     "execution_count": 140,
     "metadata": {},
     "output_type": "execute_result"
    }
   ],
   "source": [
    "# re.match 尝试从字符串的起始位置匹配一个模式\n",
    "s = 'yuanjieyuanjie88'\n",
    "r = re.match(r'yuanjie',s)\n",
    "r.span()\n",
    "r.group()\n",
    "\n",
    "r = re.search(r'88',s)\n",
    "r.span()\n",
    "r.group()\n",
    "# match只会开头匹配,找不到就返回None,这里我没加.group()是因为返回值是空值我加了编译器会报错,search不挑食扫描整个字符串\n",
    "# Search：匹配并提取第一个符合规律的内容，返回一个正则表达式对象（object）"
   ]
  },
  {
   "cell_type": "code",
   "execution_count": 173,
   "metadata": {
    "collapsed": false
   },
   "outputs": [
    {
     "data": {
      "text/plain": [
       "'我要888k18k888k18k888k18k'"
      ]
     },
     "execution_count": 173,
     "metadata": {},
     "output_type": "execute_result"
    }
   ],
   "source": [
    "s = '我要:18k:18k:18k'\n",
    "re.sub(r':.*?','888k',s)\n",
    "re.subn(r':.*?','888k',s)# 会返回替换几次"
   ]
  },
  {
   "cell_type": "code",
   "execution_count": 174,
   "metadata": {
    "collapsed": false
   },
   "outputs": [
    {
     "data": {
      "text/plain": [
       "('我要888k18k888k18k888k18k', 3)"
      ]
     },
     "execution_count": 174,
     "metadata": {},
     "output_type": "execute_result"
    }
   ],
   "source": [
    "re.subn(r':.*?','888k',s)"
   ]
  },
  {
   "cell_type": "code",
   "execution_count": null,
   "metadata": {
    "collapsed": true
   },
   "outputs": [],
   "source": []
  },
  {
   "cell_type": "code",
   "execution_count": null,
   "metadata": {
    "collapsed": true
   },
   "outputs": [],
   "source": []
  },
  {
   "cell_type": "code",
   "execution_count": null,
   "metadata": {
    "collapsed": true
   },
   "outputs": [],
   "source": []
  },
  {
   "cell_type": "code",
   "execution_count": null,
   "metadata": {
    "collapsed": true
   },
   "outputs": [],
   "source": []
  },
  {
   "cell_type": "code",
   "execution_count": null,
   "metadata": {
    "collapsed": true
   },
   "outputs": [],
   "source": []
  },
  {
   "cell_type": "code",
   "execution_count": null,
   "metadata": {
    "collapsed": true
   },
   "outputs": [],
   "source": []
  },
  {
   "cell_type": "code",
   "execution_count": null,
   "metadata": {
    "collapsed": true
   },
   "outputs": [],
   "source": []
  },
  {
   "cell_type": "code",
   "execution_count": null,
   "metadata": {
    "collapsed": true
   },
   "outputs": [],
   "source": []
  },
  {
   "cell_type": "code",
   "execution_count": 95,
   "metadata": {
    "collapsed": false
   },
   "outputs": [
    {
     "data": {
      "text/plain": [
       "['match',\n",
       " 'fullmatch',\n",
       " 'search',\n",
       " 'sub',\n",
       " 'subn',\n",
       " 'split',\n",
       " 'findall',\n",
       " 'finditer',\n",
       " 'compile',\n",
       " 'purge',\n",
       " 'template',\n",
       " 'escape',\n",
       " 'error',\n",
       " 'A',\n",
       " 'I',\n",
       " 'L',\n",
       " 'M',\n",
       " 'S',\n",
       " 'X',\n",
       " 'U',\n",
       " 'ASCII',\n",
       " 'IGNORECASE',\n",
       " 'LOCALE',\n",
       " 'MULTILINE',\n",
       " 'DOTALL',\n",
       " 'VERBOSE',\n",
       " 'UNICODE']"
      ]
     },
     "execution_count": 95,
     "metadata": {},
     "output_type": "execute_result"
    }
   ],
   "source": [
    "re.__all__"
   ]
  },
  {
   "cell_type": "code",
   "execution_count": null,
   "metadata": {
    "collapsed": true
   },
   "outputs": [],
   "source": []
  }
 ],
 "metadata": {
  "anaconda-cloud": {},
  "kernelspec": {
   "display_name": "Python [default]",
   "language": "python",
   "name": "python3"
  },
  "language_info": {
   "codemirror_mode": {
    "name": "ipython",
    "version": 3
   },
   "file_extension": ".py",
   "mimetype": "text/x-python",
   "name": "python",
   "nbconvert_exporter": "python",
   "pygments_lexer": "ipython3",
   "version": "3.5.2"
  },
  "toc": {
   "colors": {
    "hover_highlight": "#DAA520",
    "running_highlight": "#FF0000",
    "selected_highlight": "#FFD700"
   },
   "moveMenuLeft": true,
   "nav_menu": {
    "height": "12px",
    "width": "252px"
   },
   "navigate_menu": true,
   "number_sections": true,
   "sideBar": true,
   "threshold": 4,
   "toc_cell": false,
   "toc_section_display": "block",
   "toc_window_display": false,
   "widenNotebook": false
  }
 },
 "nbformat": 4,
 "nbformat_minor": 2
}
