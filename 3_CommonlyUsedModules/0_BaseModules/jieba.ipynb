{
 "cells": [
  {
   "cell_type": "code",
   "execution_count": 3,
   "metadata": {
    "collapsed": false
   },
   "outputs": [],
   "source": [
    "import jieba"
   ]
  },
  {
   "cell_type": "code",
   "execution_count": 14,
   "metadata": {
    "collapsed": true
   },
   "outputs": [],
   "source": [
    "jieba.absolute_import\n",
    "jieba.add_word\n",
    "jieba.calc\n",
    "jieba.default_encoding\n",
    "jieba.default_logger\n",
    "jieba.del_word\n",
    "jieba.disable_parallel\n",
    "jieba.dt\n",
    "jieba.enable_parallel\n",
    "jieba.finalseg\n",
    "jieba.get_DAG\n",
    "jieba.get_FREQ\n",
    "jieba.get_dict_file\n",
    "jieba.get_module_res\n",
    "jieba.initialize\n",
    "jieba.iteritems\n",
    "jieba.iterkeys\n",
    "jieba.itervalues\n",
    "jieba.lcut\n",
    "jieba.lcut_for_search\n",
    "jieba.load_userdict\n",
    "jieba.log\n",
    "jieba.log_console\n",
    "jieba.logging\n",
    "jieba.marshal\n",
    "jieba.md5\n",
    "jieba.pkg_resources\n",
    "jieba.pool\n",
    "jieba.re_eng\n",
    "jieba.re_han_cut_all\n",
    "jieba.re_han_default\n",
    "jieba.re_skip_cut_all\n",
    "jieba.re_skip_default\n",
    "jieba.re_userdict\n",
    "jieba.resolve_filename\n",
    "jieba.setLogLevel\n",
    "jieba.set_dictionary\n",
    "jieba.strdecode\n",
    "jieba.string_types\n",
    "jieba.suggest_freq\n",
    "jieba.tempfile\n",
    "jieba.text_type\n",
    "jieba.threading\n",
    "jieba.tokenize\n",
    "jieba.unicode_literals\n",
    "jieba.user_word_tag_tab\n"
   ]
  },
  {
   "cell_type": "code",
   "execution_count": 126,
   "metadata": {
    "collapsed": false
   },
   "outputs": [],
   "source": [
    "jieba.analyse.textrank?"
   ]
  },
  {
   "cell_type": "code",
   "execution_count": 8,
   "metadata": {
    "collapsed": true
   },
   "outputs": [],
   "source": [
    "s = '测试'"
   ]
  },
  {
   "cell_type": "code",
   "execution_count": 22,
   "metadata": {
    "collapsed": true
   },
   "outputs": [],
   "source": [
    "import jieba\n",
    "import jieba.posseg\n",
    "import jieba.analyse"
   ]
  },
  {
   "cell_type": "code",
   "execution_count": 51,
   "metadata": {
    "collapsed": false
   },
   "outputs": [],
   "source": [
    "jieba.suggest_freq?"
   ]
  },
  {
   "cell_type": "code",
   "execution_count": 50,
   "metadata": {
    "collapsed": false
   },
   "outputs": [
    {
     "name": "stdout",
     "output_type": "stream",
     "text": [
      "如果/放到/post/中/将/出错/。\n"
     ]
    }
   ],
   "source": [
    "print('/'.join(jieba.cut('如果放到post中将出错。', HMM=False)))\n"
   ]
  },
  {
   "cell_type": "code",
   "execution_count": 49,
   "metadata": {
    "collapsed": false
   },
   "outputs": [
    {
     "name": "stdout",
     "output_type": "stream",
     "text": [
      "如果/放到/post/中/将/出错/。\n"
     ]
    }
   ],
   "source": [
    "print('/'.join(jieba.cut('如果放到post中将出错。', HMM=True)))"
   ]
  },
  {
   "cell_type": "code",
   "execution_count": 48,
   "metadata": {
    "collapsed": false
   },
   "outputs": [
    {
     "name": "stdout",
     "output_type": "stream",
     "text": [
      "494\n"
     ]
    }
   ],
   "source": [
    "print(jieba.suggest_freq(('中', '将'), True))"
   ]
  },
  {
   "cell_type": "markdown",
   "metadata": {},
   "source": [
    "# 分词模式"
   ]
  },
  {
   "cell_type": "code",
   "execution_count": 45,
   "metadata": {
    "collapsed": false
   },
   "outputs": [
    {
     "name": "stdout",
     "output_type": "stream",
     "text": [
      "['我', '来到', '南京', '河海大学']\n",
      "['我', '来到', '南京', '河海', '河海大学', '海大', '大学']\n",
      "['我', '来到', '南京', '河海', '海大', '大学', '河海大学']\n"
     ]
    }
   ],
   "source": [
    "s = jieba.cut(\"我来到南京河海大学\", cut_all=False) # 默认模式\n",
    "print(list(s))\n",
    "s = jieba.cut(\"我来到南京河海大学\", cut_all=True) # 全模式\n",
    "print(list(s))\n",
    "s = jieba.cut_for_search(\"我来到南京河海大学\")  # 搜索引擎模式\n",
    "print(list(s))"
   ]
  },
  {
   "cell_type": "markdown",
   "metadata": {},
   "source": []
  },
  {
   "cell_type": "code",
   "execution_count": 66,
   "metadata": {
    "collapsed": false
   },
   "outputs": [
    {
     "name": "stdout",
     "output_type": "stream",
     "text": [
      "['如果', '放到', 'post', '中', '将', '出错']\n",
      "['如果', '放到', 'post', '中将', '出错']\n"
     ]
    }
   ],
   "source": [
    "s = '如果放到post中将出错'\n",
    "jieba.suggest_freq(('中', '将'), tune=True)\n",
    "print(list(jieba.cut(s)))\n",
    "jieba.suggest_freq(('中将'), tune=True)\n",
    "print(list(jieba.cut(s)))"
   ]
  },
  {
   "cell_type": "code",
   "execution_count": 63,
   "metadata": {
    "collapsed": false
   },
   "outputs": [
    {
     "name": "stdout",
     "output_type": "stream",
     "text": [
      "['如果', '放到', 'post', '中', '将', '出错']\n"
     ]
    }
   ],
   "source": [
    "jieba.suggest_freq(('中', '将'), tune=True)\n",
    "print(list(jieba.cut(s)))"
   ]
  },
  {
   "cell_type": "markdown",
   "metadata": {},
   "source": [
    "# 关键词提取"
   ]
  },
  {
   "cell_type": "code",
   "execution_count": 141,
   "metadata": {
    "collapsed": false
   },
   "outputs": [
    {
     "name": "stdout",
     "output_type": "stream",
     "text": [
      "河海大学\t\t4.171\n",
      "读书\t\t2.342\n",
      "南京\t\t1.958\n"
     ]
    }
   ],
   "source": [
    "s = \"我在南京河海大学读书\"\n",
    "for x, w in jieba.analyse.extract_tags(s, topK=20, withWeight=True, allowPOS=(), withFlag=False):\n",
    "    print('{}\\t\\t{:.3f}'.format(x, w))"
   ]
  },
  {
   "cell_type": "code",
   "execution_count": 128,
   "metadata": {
    "collapsed": false
   },
   "outputs": [
    {
     "data": {
      "text/plain": [
       "['河海大学', '读书', '南京']"
      ]
     },
     "execution_count": 128,
     "metadata": {},
     "output_type": "execute_result"
    }
   ],
   "source": [
    "jieba.analyse.extract_tags(s, topK=20, withWeight=False, allowPOS=(), withFlag=False)"
   ]
  },
  {
   "cell_type": "code",
   "execution_count": 129,
   "metadata": {
    "collapsed": false
   },
   "outputs": [
    {
     "data": {
      "text/plain": [
       "['读书', '南京']"
      ]
     },
     "execution_count": 129,
     "metadata": {},
     "output_type": "execute_result"
    }
   ],
   "source": [
    "jieba.analyse.textrank(s, topK=20, withWeight=False, allowPOS=('ns', 'n', 'vn', 'v'), withFlag=False)"
   ]
  },
  {
   "cell_type": "code",
   "execution_count": 133,
   "metadata": {
    "collapsed": false
   },
   "outputs": [
    {
     "data": {
      "text/plain": [
       "[(pair('读书', 'n'), 1.0), (pair('南京', 'ns'), 0.9961264494011037)]"
      ]
     },
     "execution_count": 133,
     "metadata": {},
     "output_type": "execute_result"
    }
   ],
   "source": [
    " [(i,j) for i,j in jieba.analyse.textrank(s, topK=20, withWeight=True, allowPOS=('ns', 'n', 'vn', 'v'), withFlag=True)]"
   ]
  },
  {
   "cell_type": "markdown",
   "metadata": {},
   "source": [
    "# 词性标注"
   ]
  },
  {
   "cell_type": "code",
   "execution_count": 123,
   "metadata": {
    "collapsed": false
   },
   "outputs": [
    {
     "name": "stdout",
     "output_type": "stream",
     "text": [
      "我 r\n",
      "在 p\n",
      "南京 ns\n",
      "河海大学 nt\n",
      "读书 n\n"
     ]
    }
   ],
   "source": [
    "words = jieba.posseg.cut(\"我在南京河海大学读书\")\n",
    "for word, flag in words:\n",
    "    print('%s %s' % (word, flag))"
   ]
  },
  {
   "cell_type": "markdown",
   "metadata": {},
   "source": [
    "# Tokenize: 返回词语在原文的起止位置"
   ]
  },
  {
   "cell_type": "code",
   "execution_count": 134,
   "metadata": {
    "collapsed": false
   },
   "outputs": [
    {
     "name": "stdout",
     "output_type": "stream",
     "text": [
      "6. Tokenize: 返回词语在原文的起止位置\n",
      "----------------------------------------\n",
      " 默认模式\n",
      "----------------------------------------\n",
      "word 永和\t\t start: 0 \t\t end:2\n",
      "word 服装\t\t start: 2 \t\t end:4\n",
      "word 饰品\t\t start: 4 \t\t end:6\n",
      "word 有限公司\t\t start: 6 \t\t end:10\n",
      "----------------------------------------\n",
      " 搜索模式\n",
      "----------------------------------------\n",
      "word 永和\t\t start: 0 \t\t end:2\n",
      "word 服装\t\t start: 2 \t\t end:4\n",
      "word 饰品\t\t start: 4 \t\t end:6\n",
      "word 有限\t\t start: 6 \t\t end:8\n",
      "word 公司\t\t start: 8 \t\t end:10\n",
      "word 有限公司\t\t start: 6 \t\t end:10\n"
     ]
    }
   ],
   "source": [
    "result = jieba.tokenize('永和服装饰品有限公司')\n",
    "for tk in result:\n",
    "    print(\"word %s\\t\\t start: %d \\t\\t end:%d\" % (tk[0],tk[1],tk[2]))\n",
    "\n",
    "print('-'*40)\n",
    "print(' 搜索模式')\n",
    "print('-'*40)\n",
    "\n",
    "result = jieba.tokenize('永和服装饰品有限公司', mode='search')\n",
    "for tk in result:\n",
    "    print(\"word %s\\t\\t start: %d \\t\\t end:%d\" % (tk[0],tk[1],tk[2]))"
   ]
  }
 ],
 "metadata": {
  "anaconda-cloud": {},
  "kernelspec": {
   "display_name": "Python [default]",
   "language": "python",
   "name": "python3"
  },
  "language_info": {
   "codemirror_mode": {
    "name": "ipython",
    "version": 3
   },
   "file_extension": ".py",
   "mimetype": "text/x-python",
   "name": "python",
   "nbconvert_exporter": "python",
   "pygments_lexer": "ipython3",
   "version": "3.5.2"
  },
  "toc": {
   "colors": {
    "hover_highlight": "#DAA520",
    "running_highlight": "#FF0000",
    "selected_highlight": "#FFD700"
   },
   "moveMenuLeft": true,
   "nav_menu": {
    "height": "84px",
    "width": "252px"
   },
   "navigate_menu": true,
   "number_sections": true,
   "sideBar": true,
   "threshold": 4,
   "toc_cell": false,
   "toc_section_display": "block",
   "toc_window_display": false,
   "widenNotebook": false
  }
 },
 "nbformat": 4,
 "nbformat_minor": 0
}
