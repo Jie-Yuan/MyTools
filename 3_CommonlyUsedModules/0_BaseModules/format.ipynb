{
 "cells": [
  {
   "cell_type": "markdown",
   "metadata": {},
   "source": [
    "# 映射"
   ]
  },
  {
   "cell_type": "code",
   "execution_count": 1,
   "metadata": {
    "collapsed": false
   },
   "outputs": [
    {
     "data": {
      "text/plain": [
       "'yuanjie,18'"
      ]
     },
     "execution_count": 1,
     "metadata": {},
     "output_type": "execute_result"
    }
   ],
   "source": [
    "# 通过位置\n",
    "'{}, {}'.format('a', 'b')\n",
    "'{0}, {1}'.format('a', 'b')\n",
    "'{1},{0},{1}'.format('a', 'b')\n",
    "\n",
    "# 通过关键字参数\n",
    "'{name},{age}'.format(age=18,name='yuanjie')\n",
    "\n",
    "# 通过下标\n",
    "p=['yuanjie',18]\n",
    "'{0[0]},{0[1]}'.format(p)"
   ]
  },
  {
   "cell_type": "markdown",
   "metadata": {},
   "source": [
    "# 格式限定符"
   ]
  },
  {
   "cell_type": "code",
   "execution_count": 2,
   "metadata": {
    "collapsed": false
   },
   "outputs": [
    {
     "data": {
      "text/plain": [
       "'aaaaa189'"
      ]
     },
     "execution_count": 2,
     "metadata": {},
     "output_type": "execute_result"
    }
   ],
   "source": [
    "# 填充与对齐\n",
    "# 填充常跟对齐一起使用\n",
    "# ^、<、>分别是居中、左对齐、右对齐，后面带宽度(默认左对齐)\n",
    "# :号后面带填充的字符，只能是一个字符，不指定的话默认是用空格填充\n",
    "'{:>8}'.format('189')\n",
    "'{:0>8}'.format('189')\n",
    "'{:a>8}'.format('189')"
   ]
  },
  {
   "cell_type": "markdown",
   "metadata": {},
   "source": [
    "# 类型"
   ]
  },
  {
   "cell_type": "code",
   "execution_count": 3,
   "metadata": {
    "collapsed": false
   },
   "outputs": [
    {
     "data": {
      "text/plain": [
       "'1,234,567,890'"
      ]
     },
     "execution_count": 3,
     "metadata": {},
     "output_type": "execute_result"
    }
   ],
   "source": [
    "# 精度与类型f\n",
    "# 其中.2表示长度为2的精度，f表示float类型\n",
    "'{:.2f}'.format(321.33345)\n",
    "# 其他类型\n",
    "# 'b' - 二进制。将数字以2为基数进行输出。\n",
    "# 'c' - 字符。在打印之前将整数转换成对应的Unicode字符串。\n",
    "# 'd' - 十进制整数。将数字以10为基数进行输出。\n",
    "# 'o' - 八进制。将数字以8为基数进行输出。\n",
    "# 'x' - 十六进制。将数字以16为基数进行输出，9以上的位数用小写字母。\n",
    "# 'e' - 幂符号。用科学计数法打印数字。用'e'表示幂。\n",
    "# 'g' - 一般格式。将数值以fixed-point格式输出。当数值特别大的时候，用幂形式打印。\n",
    "# 'n' - 数字。当值为整数时和'd'相同，值为浮点数时和'g'相同。不同的是它会根据区域设置插入数字分隔符。\n",
    "# '%' - 百分数。将数值乘以100然后以fixed-point('f')格式打印，值后面会有一个百分号。\n",
    "'{:b}'.format(17)\n",
    "'{:d}'.format(17)\n",
    "'{:o}'.format(17)\n",
    "'{:x}'.format(17)\n",
    "# 用,号还能用来做金额的千位分隔符。\n",
    "'{:,}'.format(1234567890)"
   ]
  },
  {
   "cell_type": "code",
   "execution_count": 4,
   "metadata": {
    "collapsed": false
   },
   "outputs": [
    {
     "data": {
      "text/plain": [
       "'75.66'"
      ]
     },
     "execution_count": 4,
     "metadata": {},
     "output_type": "execute_result"
    }
   ],
   "source": [
    "format(75.6564, '.2f')"
   ]
  }
 ],
 "metadata": {
  "anaconda-cloud": {},
  "kernelspec": {
   "display_name": "Python [default]",
   "language": "python",
   "name": "python3"
  },
  "language_info": {
   "codemirror_mode": {
    "name": "ipython",
    "version": 3
   },
   "file_extension": ".py",
   "mimetype": "text/x-python",
   "name": "python",
   "nbconvert_exporter": "python",
   "pygments_lexer": "ipython3",
   "version": "3.5.2"
  },
  "toc": {
   "colors": {
    "hover_highlight": "#DAA520",
    "running_highlight": "#FF0000",
    "selected_highlight": "#FFD700"
   },
   "moveMenuLeft": true,
   "nav_menu": {
    "height": "12px",
    "width": "252px"
   },
   "navigate_menu": true,
   "number_sections": true,
   "sideBar": true,
   "threshold": 4,
   "toc_cell": false,
   "toc_section_display": "block",
   "toc_window_display": false,
   "widenNotebook": false
  }
 },
 "nbformat": 4,
 "nbformat_minor": 1
}
