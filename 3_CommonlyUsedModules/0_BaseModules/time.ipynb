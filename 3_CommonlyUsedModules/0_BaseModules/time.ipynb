{
 "cells": [
  {
   "cell_type": "code",
   "execution_count": null,
   "metadata": {
    "collapsed": true
   },
   "outputs": [],
   "source": [
    "# http://www.runoob.com/python/python-date-time.html\n",
    "# http://www.cnblogs.com/lhj588/archive/2012/04/23/2466653.html\n",
    "# http://www.cnblogs.com/snow-backup/p/5063665.html\n",
    "import time\n",
    "# struct_time转换为时间戳\n",
    "## 时间戳\n",
    "time.time()\n",
    "## 时间元组struct_time\n",
    "t = time.localtime()\n",
    "t = time.localtime(time.time())\n",
    "## struct_time转换成时间戳\n",
    "time.mktime(t)\n",
    "# struct_time格式转换\n",
    "list(t)\n",
    "time.struct_time(list(t))\n",
    "# 格式化\n",
    "time.asctime(t)\n",
    "## 从时间到字符转换\n",
    "# 时间戳到日期字符串\n",
    "time.strftime(\"%Y-%m-%d %H:%M:%S\",time.localtime(时间戳))\n",
    "time.strftime(\"%Y-%m-%d %H:%M:%S\",t) \n",
    "time.strftime(\"%a %b %d %H:%M:%S %Y\",t)\n",
    "# 从字符到时间转换\n",
    "time.strptime(time.strftime(\"%Y-%m-%d %H:%M:%S\",t) ,\"%Y-%m-%d %H:%M:%S\")\n",
    "time.strptime(time.strftime(\"%a %b %d %H:%M:%S %Y\",t) ,\"%a %b %d %H:%M:%S %Y\")\n",
    "\n"
   ]
  }
 ],
 "metadata": {
  "anaconda-cloud": {},
  "kernelspec": {
   "display_name": "Python [default]",
   "language": "python",
   "name": "python3"
  },
  "language_info": {
   "codemirror_mode": {
    "name": "ipython",
    "version": 3
   },
   "file_extension": ".py",
   "mimetype": "text/x-python",
   "name": "python",
   "nbconvert_exporter": "python",
   "pygments_lexer": "ipython3",
   "version": "3.5.2"
  },
  "toc": {
   "colors": {
    "hover_highlight": "#DAA520",
    "running_highlight": "#FF0000",
    "selected_highlight": "#FFD700"
   },
   "moveMenuLeft": true,
   "nav_menu": {
    "height": "12px",
    "width": "252px"
   },
   "navigate_menu": true,
   "number_sections": true,
   "sideBar": true,
   "threshold": 4,
   "toc_cell": false,
   "toc_section_display": "block",
   "toc_window_display": false,
   "widenNotebook": false
  }
 },
 "nbformat": 4,
 "nbformat_minor": 2
}
